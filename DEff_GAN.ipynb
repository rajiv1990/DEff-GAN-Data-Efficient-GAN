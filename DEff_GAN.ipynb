{
  "nbformat": 4,
  "nbformat_minor": 0,
  "metadata": {
    "colab": {
      "provenance": [],
      "authorship_tag": "ABX9TyNQG2r3OOd7rkHQGCQLZEKM",
      "include_colab_link": true
    },
    "kernelspec": {
      "name": "python3",
      "display_name": "Python 3"
    },
    "language_info": {
      "name": "python"
    }
  },
  "cells": [
    {
      "cell_type": "markdown",
      "metadata": {
        "id": "view-in-github",
        "colab_type": "text"
      },
      "source": [
        "<a href=\"https://colab.research.google.com/github/rajiv1990/Data-Efficient-GAN-DEff-GAN/blob/master/DEff_GAN.ipynb\" target=\"_parent\"><img src=\"https://colab.research.google.com/assets/colab-badge.svg\" alt=\"Open In Colab\"/></a>"
      ]
    },
    {
      "cell_type": "code",
      "execution_count": 57,
      "metadata": {
        "id": "pYlkhcAXvU0n"
      },
      "outputs": [],
      "source": []
    },
    {
      "cell_type": "markdown",
      "source": [
        "Clone the repo from Github"
      ],
      "metadata": {
        "id": "oxhQ6Ena_oxh"
      }
    },
    {
      "cell_type": "code",
      "source": [
        "!git clone https://github.com/rajiv1990/Data-Efficient-GAN-DEff-GAN.git"
      ],
      "metadata": {
        "id": "U_YjGFdgvViy"
      },
      "execution_count": null,
      "outputs": []
    },
    {
      "cell_type": "markdown",
      "source": [
        "Change the present working directory to cloned directory"
      ],
      "metadata": {
        "id": "mY7zyQ7C_t2Q"
      }
    },
    {
      "cell_type": "code",
      "source": [
        "cd Data-Efficient-GAN-DEff-GAN/"
      ],
      "metadata": {
        "id": "PWKLJdkWvocG"
      },
      "execution_count": null,
      "outputs": []
    },
    {
      "cell_type": "markdown",
      "source": [
        "Remove previous checkpoints and training directory"
      ],
      "metadata": {
        "id": "42QnL1Yg_487"
      }
    },
    {
      "cell_type": "code",
      "source": [
        "!rm -r TrainedModels/"
      ],
      "metadata": {
        "id": "j85i0Sn1_KcI"
      },
      "execution_count": null,
      "outputs": []
    },
    {
      "cell_type": "markdown",
      "source": [
        "Start training with the default options. Make sure to use GPU for fast results."
      ],
      "metadata": {
        "id": "DY4whgAg__0y"
      }
    },
    {
      "cell_type": "code",
      "source": [
        "!python train.py"
      ],
      "metadata": {
        "id": "XRyT84O3vvwW"
      },
      "execution_count": null,
      "outputs": []
    },
    {
      "cell_type": "markdown",
      "source": [],
      "metadata": {
        "id": "dRtvpnZGAKJU"
      }
    },
    {
      "cell_type": "markdown",
      "source": [
        "Remove existing directory"
      ],
      "metadata": {
        "id": "h1cXuSPI_hs6"
      }
    },
    {
      "cell_type": "code",
      "source": [
        "cd ..\n",
        "pwd\n",
        "ls"
      ],
      "metadata": {
        "id": "D13PB0iTv36H"
      },
      "execution_count": null,
      "outputs": []
    },
    {
      "cell_type": "code",
      "source": [
        "!rm -r Data-Efficient-GAN-DEff-GAN/"
      ],
      "metadata": {
        "id": "3dqawPFk-8gx"
      },
      "execution_count": null,
      "outputs": []
    }
  ]
}